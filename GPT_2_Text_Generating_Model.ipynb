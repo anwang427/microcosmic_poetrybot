{
  "nbformat": 4,
  "nbformat_minor": 0,
  "metadata": {
    "colab": {
      "name": "GPT-2 Text-Generating Model",
      "provenance": [],
      "collapsed_sections": [],
      "toc_visible": true,
      "include_colab_link": true
    },
    "kernelspec": {
      "name": "python3",
      "display_name": "Python 3"
    },
    "accelerator": "GPU"
  },
  "cells": [
    {
      "cell_type": "markdown",
      "metadata": {
        "id": "view-in-github",
        "colab_type": "text"
      },
      "source": [
        "<a href=\"https://colab.research.google.com/github/anwang427/microcosmic_poetrybot/blob/master/GPT_2_Text_Generating_Model.ipynb\" target=\"_parent\"><img src=\"https://colab.research.google.com/assets/colab-badge.svg\" alt=\"Open In Colab\"/></a>"
      ]
    },
    {
      "cell_type": "code",
      "metadata": {
        "id": "KBkpRgBCBS2_",
        "colab_type": "code",
        "outputId": "7ca6b289-2df7-40c3-9b02-3599def4c80f",
        "colab": {
          "base_uri": "https://localhost:8080/",
          "height": 170
        }
      },
      "source": [
        "%tensorflow_version 1.x\n",
        "!pip install -q gpt-2-simple\n",
        "import gpt_2_simple as gpt2\n",
        "from datetime import datetime\n",
        "from google.colab import files"
      ],
      "execution_count": 0,
      "outputs": [
        {
          "output_type": "stream",
          "text": [
            "TensorFlow 1.x selected.\n",
            "WARNING:tensorflow:\n",
            "The TensorFlow contrib module will not be included in TensorFlow 2.0.\n",
            "For more information, please see:\n",
            "  * https://github.com/tensorflow/community/blob/master/rfcs/20180907-contrib-sunset.md\n",
            "  * https://github.com/tensorflow/addons\n",
            "  * https://github.com/tensorflow/io (for I/O related ops)\n",
            "If you depend on functionality not listed there, please file an issue.\n",
            "\n"
          ],
          "name": "stdout"
        }
      ]
    },
    {
      "cell_type": "markdown",
      "metadata": {
        "id": "0wXB05bPDYxS",
        "colab_type": "text"
      },
      "source": [
        "## Downloading GPT-2\n",
        "\n",
        "If you're retraining a model on new text, the GPT-2 model must be downloaded first. \n",
        "\n",
        "* `124M` (default): the \"small\" model, 500MB on disk.\n",
        "* `355M`: the \"medium\" model, 1.5GB on disk.\n",
        "* `774M`: the \"large\" model, cannot currently be finetuned with Colaboratory but can be used to generate text from the pretrained model (see later in Notebook)\n",
        "* `1558M`: the \"extra large\", true model. Will not work if a K80 GPU is attached to the notebook. (like `774M`, it cannot be finetuned).\n",
        "\n",
        "Larger models have more knowledge, but take longer to finetune and longer to generate text. You can specify which base model to use by changing `model_name` in the cells below.\n",
        "\n",
        "The next cell downloads it from Google Cloud Storage and saves it in the Colaboratory VM at `/models/<model_name>`.\n",
        "\n",
        "This model isn't permanently saved in the Colaboratory VM; you'll have to redownload it if you want to retrain it at a later time."
      ]
    },
    {
      "cell_type": "code",
      "metadata": {
        "id": "P8wSlgXoDPCR",
        "colab_type": "code",
        "outputId": "2973791a-0682-4432-b21e-ab61cf1cb8ac",
        "colab": {
          "base_uri": "https://localhost:8080/",
          "height": 164
        }
      },
      "source": [
        "gpt2.download_gpt2(model_name=\"124M\")"
      ],
      "execution_count": 0,
      "outputs": [
        {
          "output_type": "error",
          "ename": "NameError",
          "evalue": "ignored",
          "traceback": [
            "\u001b[0;31m---------------------------------------------------------------------------\u001b[0m",
            "\u001b[0;31mNameError\u001b[0m                                 Traceback (most recent call last)",
            "\u001b[0;32m<ipython-input-4-046d276345e4>\u001b[0m in \u001b[0;36m<module>\u001b[0;34m()\u001b[0m\n\u001b[0;32m----> 1\u001b[0;31m \u001b[0mgpt2\u001b[0m\u001b[0;34m.\u001b[0m\u001b[0mdownload_gpt2\u001b[0m\u001b[0;34m(\u001b[0m\u001b[0mmodel_name\u001b[0m\u001b[0;34m=\u001b[0m\u001b[0;34m\"124M\"\u001b[0m\u001b[0;34m)\u001b[0m\u001b[0;34m\u001b[0m\u001b[0;34m\u001b[0m\u001b[0m\n\u001b[0m",
            "\u001b[0;31mNameError\u001b[0m: name 'gpt2' is not defined"
          ]
        }
      ]
    },
    {
      "cell_type": "markdown",
      "metadata": {
        "id": "N8KXuKWzQSsN",
        "colab_type": "text"
      },
      "source": [
        "## Mounting Google Drive\n",
        "\n",
        "The best way to get input text to-be-trained into the Colaboratory VM, and to get the trained model *out* of Colaboratory, is to route it through Google Drive *first*.\n",
        "\n",
        "Running this cell (which will only work in Colaboratory) will mount your personal Google Drive in the VM, which later cells can use to get data in/out. (it will ask for an auth code; that auth is not saved anywhere)"
      ]
    },
    {
      "cell_type": "code",
      "metadata": {
        "id": "puq4iC6vUAHc",
        "colab_type": "code",
        "colab": {}
      },
      "source": [
        "gpt2.mount_gdrive()"
      ],
      "execution_count": 0,
      "outputs": []
    },
    {
      "cell_type": "markdown",
      "metadata": {
        "id": "BT__brhBCvJu",
        "colab_type": "text"
      },
      "source": [
        "## Uploading a Text File to be Trained to Colaboratory\n",
        "\n",
        "In the Colaboratory Notebook sidebar on the left of the screen, select *Files*. From there you can upload files:\n",
        "\n",
        "![alt text](https://i.imgur.com/TGcZT4h.png)\n",
        "\n",
        "Upload **any smaller text file**  (<10 MB) and update the file name in the cell below, then run the cell."
      ]
    },
    {
      "cell_type": "code",
      "metadata": {
        "id": "6OFnPCLADfll",
        "colab_type": "code",
        "colab": {}
      },
      "source": [
        "file_name = \"poetry_corpus.txt\""
      ],
      "execution_count": 0,
      "outputs": []
    },
    {
      "cell_type": "markdown",
      "metadata": {
        "id": "HeeSKtNWUedE",
        "colab_type": "text"
      },
      "source": [
        "If your text file is larger than 10MB, it is recommended to upload that file to Google Drive first, then copy that file from Google Drive to the Colaboratory VM."
      ]
    },
    {
      "cell_type": "code",
      "metadata": {
        "id": "-Z6okFD8VKtS",
        "colab_type": "code",
        "colab": {}
      },
      "source": [
        "gpt2.copy_file_from_gdrive(file_name)"
      ],
      "execution_count": 0,
      "outputs": []
    },
    {
      "cell_type": "markdown",
      "metadata": {
        "id": "LdpZQXknFNY3",
        "colab_type": "text"
      },
      "source": [
        "## Finetune GPT-2\n",
        "\n",
        "The next cell will start the actual finetuning of GPT-2. It creates a persistent TensorFlow session which stores the training config, then runs the training for the specified number of `steps`. (to have the finetuning run indefinitely, set `steps = -1`)\n",
        "\n",
        "The model checkpoints will be saved in `/checkpoint/run1` by default. The checkpoints are saved every 500 steps (can be changed) and when the cell is stopped.\n",
        "\n"
      ]
    },
    {
      "cell_type": "code",
      "metadata": {
        "id": "aeXshJM-Cuaf",
        "colab_type": "code",
        "outputId": "ee9c7278-d765-466e-c8f5-613d07a96a80",
        "colab": {
          "base_uri": "https://localhost:8080/",
          "height": 1000
        }
      },
      "source": [
        "sess = gpt2.start_tf_sess()\n",
        "\n",
        "gpt2.finetune(sess,\n",
        "              dataset=file_name,\n",
        "              model_name='124M',\n",
        "              steps=1000,\n",
        "              restore_from='fresh',\n",
        "              run_name='run1',\n",
        "              print_every=10,\n",
        "              sample_every=200,\n",
        "              save_every=500\n",
        "              )"
      ],
      "execution_count": 0,
      "outputs": [
        {
          "output_type": "stream",
          "text": [
            "WARNING:tensorflow:From /usr/local/lib/python3.6/dist-packages/gpt_2_simple/src/sample.py:17: where (from tensorflow.python.ops.array_ops) is deprecated and will be removed in a future version.\n",
            "Instructions for updating:\n",
            "Use tf.where in 2.0, which has the same broadcast rule as np.where\n",
            "Loading checkpoint models/124M/model.ckpt\n",
            "INFO:tensorflow:Restoring parameters from models/124M/model.ckpt\n"
          ],
          "name": "stdout"
        },
        {
          "output_type": "stream",
          "text": [
            "\r  0%|          | 0/1 [00:00<?, ?it/s]"
          ],
          "name": "stderr"
        },
        {
          "output_type": "stream",
          "text": [
            "Loading dataset...\n"
          ],
          "name": "stdout"
        },
        {
          "output_type": "stream",
          "text": [
            "100%|██████████| 1/1 [00:00<00:00,  2.81it/s]\n"
          ],
          "name": "stderr"
        },
        {
          "output_type": "stream",
          "text": [
            "dataset has 36069 tokens\n",
            "Training...\n",
            "[10 | 50.17] loss=3.73 avg=3.73\n",
            "[20 | 92.31] loss=3.28 avg=3.51\n",
            "[30 | 134.61] loss=3.35 avg=3.45\n",
            "[40 | 176.87] loss=3.07 avg=3.35\n",
            "[50 | 219.17] loss=2.53 avg=3.19\n",
            "[60 | 261.47] loss=2.65 avg=3.09\n",
            "[70 | 303.73] loss=1.80 avg=2.90\n",
            "[80 | 345.98] loss=1.59 avg=2.73\n",
            "[90 | 388.25] loss=1.50 avg=2.59\n",
            "[100 | 430.56] loss=0.95 avg=2.42\n",
            "[110 | 472.80] loss=0.64 avg=2.25\n",
            "[120 | 515.05] loss=0.58 avg=2.10\n",
            "[130 | 557.27] loss=0.32 avg=1.96\n",
            "[140 | 599.47] loss=0.33 avg=1.83\n",
            "[150 | 641.71] loss=0.39 avg=1.73\n",
            "[160 | 684.01] loss=0.17 avg=1.62\n",
            "[170 | 726.27] loss=0.15 avg=1.53\n",
            "[180 | 768.54] loss=0.09 avg=1.44\n",
            "[190 | 810.82] loss=0.57 avg=1.39\n",
            "[200 | 853.06] loss=0.07 avg=1.32\n",
            "======== SAMPLE 1 ========\n",
            ". At last they have reached the summit.\n",
            "We can no more look back; no more needing to leave an unhappy marriage.\n",
            "And we only wonder what will come next?\n",
            "...O green planet, with my hundred years of flower and grass,\n",
            "What though you duked it lifting the great Sun?\n",
            "Oh, wait, there's more to come!\n",
            "Toiting fine tune for summit rainbow,\n",
            "Sheep's hoof-prints climbed the nine mountains; bird's cry climbed the ten squares.\n",
            "...The eight-story building on Zhongnan Mountain\n",
            "Has, like Fairy Mountain, our windowpanes picture?\n",
            "...Our capital teems with brick and metal,\n",
            "But a bamboo shield measures between our eyes\n",
            "And a dreamlike tempest casts a shadow on the sunset.\n",
            "\n",
            "High in the faint pink of the morning-glories,\n",
            "Too cold for my taste, too rainy\n",
            "To armour my white hair, so I plough full-speed,\n",
            "Swallow-ingen-ford the large clear streams.\n",
            "...After this early morning fog and too little light,\n",
            "How could We talk to each other after lunch?\n",
            "\n",
            "We munched and danced, and drank and danced till the drum blew,\n",
            "While the river and the sky were changing shades.\n",
            "At last We shook hands and began chatting.\n",
            "After that evening frost there was no singing,\n",
            "There was only rustling and grunting.\n",
            "...My quiet companion, away from the village,\n",
            "Is now returning home with his lady and his lady-in-waiting.\n",
            "\n",
            "She is bidden to recite The Three Temptations,\n",
            "The Star Chamber Star, on her robes. \". . .\"\n",
            "\"Let her heart be content with her blushing stage name!\"\n",
            "be announcing it,\n",
            "Let it ring for three thousand miles!\n",
            "\n",
            "The song of the flageolet is over, the procession complete\n",
            "Beside the river.\n",
            "\n",
            "\n",
            "While the evening-water has flowd the River of Stars,\n",
            "Petals will drip from the bridal chamber forever\n",
            "And the guests of the Forbidden City will be forever pouring out of town.\n",
            "\n",
            "Mermen and uncles and whatever you are about to see will gush out of society,\n",
            "Where, before you, are presided over a dynasty!\n",
            "Among noble ladies you will be the first to introduce goddess-names;\n",
            "All of you will be honouredable guests....\n",
            "Oh, here in my limpid room, waiting,\n",
            "For that final flourish!\n",
            "\n",
            "...Howling through the worm's energy,\n",
            "The Forbidden City had begun.\n",
            "It had grown too thin to support an emperor:\n",
            "Its six stories would likely overload the cannon;\n",
            "But we were firm in saying::: \"The Emperor must accept us as his friends;\n",
            "And, after this well-played event,\n",
            "To accept us as our friends is to be a dream.\"\n",
            "\n",
            "Lakka-trees and huge plum-trees\n",
            "Are one with the other in space,\n",
            "Like tall mirror-images, casting their light on the huge moon.\n",
            "Flowers and other living things, in all their myriad forms,\n",
            "Are intermingled in the deep, rich deep.\n",
            "And yet -- because the Moon-Spirit is stillborn\n",
            "And the three Little Flower-Plants become one with the Xinfeng Dragon\n",
            "And because fanged-flails in the Mountain of Heaven\n",
            "Are blowing in the Great Wind Hall,\n",
            "There is nothing like seeing the bright moon!\n",
            "\n",
            "Forlorn in the northeast, hushed in the mountain-river,\n",
            "In the sombre west, humbly in the mountain-town,\n",
            "Are the dead singing in the Rainbow Camp.\n",
            "...As I bade my friend, the Marquis of Qin,\n",
            "May this low calling be bled even deeper\n",
            "In the deep, poisonous mist.\n",
            "\n",
            "\n",
            "O General Zhou you are no friend to us.\n",
            "We await his turn.\n",
            "We are both too young to remember.\n",
            "...Shall I entice you to join me in our mountain-party?\n",
            "...As the supreme general of the army, your highness would be a heavenly favour!\n",
            "Become I through your example,\n",
            "With your aside costs so great that I cannot repay them,\n",
            "Yesterday I was absent from duty so long a journey,\n",
            "And I find you at your very station.\n",
            "We hold hands a few more times to arrange an end,\n",
            "But it never occurs to me how to recommence them.\n",
            "\n",
            "In the morning, riding toward the Palace of Eternal Love,\n",
            "We met for the first time, in green-and-purple light.\n",
            "We shared a glance, we commented a moment,\n",
            "And we stood still for a bit, before descending a quiet staircase.\n",
            "Our destination, we were told, was the faintest sign of the new year.\n",
            "We called to mind an old song, perhaps, from home;\n",
            "\n",
            "[210 | 913.18] loss=0.08 avg=1.26\n",
            "[220 | 955.39] loss=0.06 avg=1.20\n",
            "[230 | 997.62] loss=0.05 avg=1.14\n",
            "[240 | 1039.91] loss=0.07 avg=1.09\n",
            "[250 | 1082.21] loss=0.06 avg=1.04\n",
            "[260 | 1124.48] loss=0.05 avg=1.00\n",
            "[270 | 1166.72] loss=0.06 avg=0.96\n",
            "[280 | 1208.95] loss=0.05 avg=0.92\n",
            "[290 | 1251.22] loss=0.04 avg=0.89\n",
            "[300 | 1293.46] loss=0.05 avg=0.86\n",
            "[310 | 1335.69] loss=0.05 avg=0.83\n",
            "[320 | 1377.92] loss=0.05 avg=0.80\n",
            "[330 | 1420.18] loss=0.03 avg=0.77\n",
            "[340 | 1462.41] loss=0.05 avg=0.75\n",
            "[350 | 1504.67] loss=0.04 avg=0.72\n",
            "[360 | 1546.95] loss=0.04 avg=0.70\n",
            "[370 | 1589.19] loss=0.04 avg=0.68\n",
            "[380 | 1631.46] loss=0.05 avg=0.66\n",
            "[390 | 1673.68] loss=0.03 avg=0.64\n",
            "[400 | 1715.94] loss=0.05 avg=0.62\n",
            "======== SAMPLE 1 ========\n",
            " the moon.\n",
            "I have poems. I can read.\n",
            "I can weep? No. What am I good for?\n",
            "Nothing at all....\n",
            "Pure water and grasses, fresh with me now,\n",
            "Perfect solitude and quiet with a bird in the ear.\n",
            "...Sunset prunes sweet grasses to moisten your heart;\n",
            "Moonlight illumines your memory.\n",
            "Abrim to the Cupinal? No. What is at stake,\n",
            "What am I good for in this world?....\n",
            "...Vainly my hair, lightly painted,\n",
            "Here in my window the blossom-marks of a friend\n",
            "And bitterly showing through the night,\n",
            "My tears are spent. I am mute.\n",
            "Singing is hard for me, even in this world....\n",
            "When shall we meet again, and shall we say no more?\n",
            "\n",
            "The sun has set in the water's clear void,\n",
            "And lights make their way to the yellow moon.\n",
            "I see a sail in the clear moon's water.\n",
            "Sailors gathering, sailing toward the west.\n",
            "...Who knows if they be caught or not?\n",
            "Who listens to what state she is in?\n",
            "...She sounds her magic, she sinks her dagger in the wind.\n",
            "\n",
            "A light wind is pausing at the northern border\n",
            "And camps on the border at the dusk,\n",
            "As waters of amber are slow to subside.\n",
            "...To guard the western border she sets she castes meekly\n",
            "And skirts are tumbled and rows of hairpins\n",
            "With her dagger in her she runs!\n",
            "\n",
            "This is a girl of fifteen years who was killed in action.\n",
            "In her western tent she lies for the night with a patten of grass\n",
            "And a sweet breath lies in her breast purse,\n",
            "And a cuckoo is asking for a crumpled note.\n",
            "...She has, by her element, no husband,\n",
            "And, though she has a husband prettier than herself,\n",
            "She is shut away from her homelands with the rust of her tears.\n",
            "\n",
            "A forest-goor with a forest-goor face,\n",
            "She lies awake and ponderous in the moon's light,\n",
            "While the stars move in the unbroken sky.\n",
            "...The girl from Wu, from Liangzhou,\n",
            "Was very young when she and her friends\n",
            "First came to the capital from Chu\n",
            "And have been almost all come in the last year.\n",
            "...They all come from good families,\n",
            "Which makes me sad that they have ended this long life.\n",
            "But we women in green carriage with hoops for our soles\n",
            "Wept when our side of the house was burned,\n",
            "And when our chief was sent away, we said:\n",
            "What do you want from me, old friend?\n",
            "Nothing to see, nothing to hear today,\n",
            "For I have waited this long for you, a long way from me.\n",
            "...When shall we meet again you there, when the trees finally fade?\n",
            "We ask where you are going,\n",
            "We ask when we come.\n",
            "...I have known you long enough to be pure with us,\n",
            "You have known me long enough to be pure with you.\n",
            "...You were so kind as to promise me the world,\n",
            "That I might give you ten beautiful songs;\n",
            "But you did not answer my summons, instead playing \"Ode to the Wind Moved the River.\"\n",
            "Oh, if only this Taihouan song were as true\n",
            "As it seems --\"I WISH I WOULD KNOW IF I MADE Journeying.\"\n",
            "...Oh, forgive my broken heart!\n",
            "The mountain-light of morning and evening is long gone,\n",
            "And our new friend, the quietude of a high official,\n",
            "Has, through his lady of the lake, entered the court of the mountain.\n",
            "\n",
            "Moved by the rapidity with which the court was built\n",
            "And the palace of the river-merchant\n",
            "That was once his palace, now he has a great gale.\n",
            "The jade courtier is once more a high point,\n",
            "With the silver screen red and gold;\n",
            "The silkworms are spreading their wings in satisfaction\n",
            "While the great artist's waves are tossing about the world.\n",
            "...What are you thinking as we part from one another,\n",
            "Pulling in our horses for the stirrup-cups?\n",
            "We cry in the street to thank you, for your good offices.\n",
            "The road ahead is narrow and dangerous,\n",
            "With only a few crooked steps to your western tower.\n",
            "But the future is in our hands, and we hurry to launch you!\n",
            "\n",
            "Keep your wheels in paradise and ride on the ferry for us!\n",
            "-There's a fishing-boat on the river,\n",
            "On its way we sling the wide river;\n",
            "And a fishing-boat in the opposite direction.\n",
            "...Oh, do ponder on it for a while!\n",
            "The dream of days gone by\n",
            "Was a part\n",
            "\n",
            "[410 | 1774.91] loss=0.04 avg=0.60\n",
            "[420 | 1817.12] loss=0.05 avg=0.59\n",
            "[430 | 1859.34] loss=0.05 avg=0.57\n",
            "[440 | 1901.58] loss=0.04 avg=0.56\n",
            "[450 | 1943.86] loss=0.04 avg=0.54\n",
            "[460 | 1986.11] loss=0.04 avg=0.53\n",
            "[470 | 2028.33] loss=0.03 avg=0.52\n",
            "[480 | 2070.59] loss=0.03 avg=0.50\n",
            "[490 | 2112.88] loss=0.03 avg=0.49\n",
            "[500 | 2155.15] loss=0.04 avg=0.48\n",
            "Saving checkpoint/run1/model-500\n",
            "[510 | 2200.60] loss=0.04 avg=0.47\n",
            "[520 | 2242.82] loss=0.04 avg=0.46\n",
            "[530 | 2285.12] loss=0.03 avg=0.45\n",
            "[540 | 2327.43] loss=0.03 avg=0.44\n",
            "[550 | 2369.69] loss=0.04 avg=0.43\n",
            "[560 | 2411.96] loss=0.03 avg=0.42\n",
            "[570 | 2454.23] loss=0.04 avg=0.41\n",
            "[580 | 2496.49] loss=0.07 avg=0.40\n",
            "[590 | 2538.74] loss=0.03 avg=0.39\n",
            "[600 | 2580.99] loss=0.04 avg=0.39\n",
            "======== SAMPLE 1 ========\n",
            " of my youthful desires;\n",
            "And, because of these, I am forever indebted.\n",
            "...My mother was the more excellent of these two parents,\n",
            "And my father, a fine artist, was a fine artist.\n",
            "He was more than able and would do anything to be\n",
            "Kind and attentive to my good example.\n",
            "He was kind to his neighbours and very kind to himself\n",
            "When he felt an emotion of distress in the company of the stranger.\n",
            "He became more and more intimate with the poorer and poorer;\n",
            "And when his very being was at risk,\n",
            "He used his great skill with painting to achieve the greatest of all\n",
            "Outsiders.\n",
            "...The intangible, the intangible only.\n",
            "The immortal.\n",
            "...Until this morning.\n",
            "Oh, how can he bear to gather his things?\n",
            "He roams the city poor, forgetting the blossoms\n",
            "And people of the city, note the flowers.\n",
            "...Nothing to see, nothing to hear,\n",
            "A single cloud by the grain of the river,\n",
            "His lone sail lost along the way.\n",
            "\n",
            "\n",
            "While my little boat lasts for little wine\n",
            "And rain and shine wash the water,\n",
            "Here I shall be able to take my old bones home.\n",
            "\n",
            "The river is high and wide,\n",
            "And the river-town narrow and wide;\n",
            "But far gone are the flowers and the cicadas.\n",
            "The note-bags are on the ground, no one can bear the weight,\n",
            "And the spirit flies about the camp.\n",
            "...What can a man do for the feather of his fame?\n",
            "The world has but scorn for praise --\n",
            "Taxes and flags are duties of the type he#8 --\n",
            "And flags pose as angels from Wu.\n",
            "In the level dawn, all alone, he will be starting for the mountains of China.\n",
            "\n",
            "It's a long way home, a long way east. I will be with my wife soon.\n",
            "And I will be a long way from here.\n",
            "\n",
            "O breeze of the spring, from among the woods,\n",
            "Send me letters, send me gifts,\n",
            "All in the thunder of a big sail.\n",
            "\n",
            "Thinking of you, homeward,\n",
            "In the far east you come to me,\n",
            "Send me gifts,\n",
            "Send me far storms of sea-tide.\n",
            "\n",
            "In the twelfth-month chill at the frontier post,\n",
            "I remember your voice in the speakers of the net,\n",
            "The gold of dawn wine in a jade stove.\n",
            "...What have I to hope for in the ages of Zhou and Xun?\n",
            "The barbarian wildgeese have likewise taken to flinging tales,\n",
            "Over the border at Jueting to-eat,\n",
            "There's a girl from Wu at the airport crying,\n",
            "And a boy from Du. I dare not ask him,\n",
            "He's always here.\n",
            "...Come the evening rain, my raincoat is loose.\n",
            "I think of you far away, beyond the Yellow River,\n",
            "And my eyes that once were sparkling\n",
            "Are now a well of tears.\n",
            "\n",
            "Too young to have been grown,\n",
            "Too young to have heard about the real world,\n",
            "She seems to be only a toy for dolls.\n",
            "What if she go Back Again --\n",
            "or rather, what if?\n",
            "To a foreign land, where the tipplers are temporary\n",
            "And the farmers new at the circus every day.\n",
            "...What if of all the world not one child\n",
            "Has met her mother yet?\n",
            "\n",
            "There are walls of the Circus City against the river,\n",
            "But she is so much like her, so far away,\n",
            "That even to go back again would be a long journey.\n",
            "Her bright smile is always on the brochures,\n",
            "Her jade-white wings are in the palace registers.\n",
            "...Read in the records, from earliest times,\n",
            "How beautiful she is to the eye, to her neighbours!\n",
            "\n",
            "There are even flowers in this most famous house,\n",
            "There are even songs in this little song....\n",
            "When did you come here, young lady? --\n",
            "When did you come here, old lady?\n",
            "...By the telegraph, going door to door,\n",
            "Tell me what you have come all these years,\n",
            "To hear by the stars all about your new-found happiness?\n",
            "...Do you, too, still take part in the feasts?\n",
            "Have you always been a great and good ruler,\n",
            "That you might place an end to all your troubles?\n",
            "...Do you, too, still take part in the ills of the world,\n",
            "Still at the Court of the Red Pine?\n",
            "\n",
            "What are you thinking of, then, when the ills of the world stop at the Court of the Red Pine?\n",
            "\n",
            "There are trees that look toward the Temple of the Chinese Wizard,\n",
            "There are even birds that are singing in the Day Palm....\n",
            "How can you say good-bye, when there are so many new faces?\n",
            "...\n",
            "\n",
            "[610 | 2640.20] loss=0.04 avg=0.38\n",
            "[620 | 2682.47] loss=0.03 avg=0.37\n",
            "[630 | 2724.83] loss=0.03 avg=0.36\n",
            "[640 | 2767.11] loss=0.04 avg=0.36\n",
            "[650 | 2809.45] loss=0.04 avg=0.35\n",
            "[660 | 2851.82] loss=0.03 avg=0.34\n",
            "[670 | 2894.06] loss=0.04 avg=0.34\n",
            "[680 | 2936.33] loss=0.03 avg=0.33\n",
            "[690 | 2978.56] loss=0.03 avg=0.33\n",
            "[700 | 3020.80] loss=0.03 avg=0.32\n",
            "[710 | 3063.08] loss=0.03 avg=0.31\n",
            "[720 | 3105.34] loss=0.03 avg=0.31\n",
            "[730 | 3147.60] loss=0.03 avg=0.30\n",
            "[740 | 3189.83] loss=0.04 avg=0.30\n",
            "[750 | 3232.09] loss=0.04 avg=0.29\n",
            "[760 | 3274.28] loss=0.03 avg=0.29\n",
            "[770 | 3316.52] loss=0.03 avg=0.28\n",
            "[780 | 3358.76] loss=0.03 avg=0.28\n",
            "[790 | 3400.98] loss=0.03 avg=0.27\n",
            "[800 | 3443.26] loss=0.03 avg=0.27\n",
            "======== SAMPLE 1 ========\n",
            " walls the Palace of Heaven,\n",
            "With pavilions and fine towers in the five-coloured air,\n",
            "And of exquisite immortals moving to and fro,\n",
            "And of one among them-whom they called The Ever True-\n",
            "With a face of snow and flowers resembling hers he sought.\n",
            "So he went to the West Hall's gate of gold and knocked at the jasper door\n",
            "And asked a girl, called Morsel-of-Jade, to tell The Doubly- Perfect.\n",
            "And the lady, at news of an envoy from the Emperor of China,\n",
            "Was startled out of dreams in her nine-flowered, canopy.\n",
            "She pushed aside her pillow, dressed, shook away sleep,\n",
            "And opened the pearly shade and then the silver screen.\n",
            "Her cloudy hair-dress hung on one side because of her great haste,\n",
            "And her flower-cap was loose when she came along the terrace,\n",
            "While a light wind filled her cloak and fluttered with her motion\n",
            "As though she danced The Rainbow Skirt and the Feathered Coat.\n",
            "And the tear-drops drifting down her sad white face\n",
            "Were like a rain in spring on the blossom of the pear.\n",
            "But love glowed in her lilting eyes when she bade him thank her liege,\n",
            "Whose form and voice had been strange to her ever since their parting --\n",
            "Since happiness had ended at the Court of the Bright Sun,\n",
            "And moons and dawns had become long in Fairy-Mountain Palace.\n",
            "But when she turned her face and looked down toward the earth\n",
            "And tried to see the capital, there were only fog and dust.\n",
            "So she took out, with emotion, the pledges he had given\n",
            "And, through his envoy, sent him back a shell box and gold hairpin,\n",
            "But kept one branch of the hairpin and one side of the box,\n",
            "Breaking the gold of the hairpin, breaking the shell of the box;\n",
            "\"Our souls belong together,\" she said, \" like this gold and this shell --\n",
            "Somewhere, sometime, on earth or in heaven, we shall surely\n",
            "And she sent him, by his messenger, a sentence reminding him\n",
            "Of vows which had been known only to their two hearts:\n",
            "\"On the seventh day of the Seventh-month, in the Palace of Long Life,\n",
            "We told each other secretly in the quiet midnight world\n",
            "That we wished to fly in heaven, two birds with the wings of one,\n",
            "And to grow together on the earth, two branches of one tree.\"\n",
            "Earth endures, heaven endures; some time both shall end,\n",
            "While this unending sorrow goes on and on for ever.\n",
            "\n",
            "I was bidding a guest farewell, at night on the Xunyang River,\n",
            "Where maple-leaves and full-grown rushes rustled in the autumn.\n",
            "I, the host, had dismounted, my guest had boarded his boat,\n",
            "And we raised our cups and wished to drink-but, alas, there was no music.\n",
            "For all we had drunk we felt no joy and were parting from each other,\n",
            "When the river widened mysteriously toward the full moon --\n",
            "We had heard a sudden sound, a guitar across the water.\n",
            "Host forgot to turn back home, and guest to go his way.\n",
            "We followed where the melody led and asked the player's name.\n",
            "The sound broke off...then reluctantly she answered.\n",
            "We moved our boat near hers, invited her to join us,\n",
            "Summoned more wine and lanterns to recommence our banquet.\n",
            "Yet we called and urged a thousand times before she started toward us,\n",
            "Still hiding half her face from us behind her guitar.\n",
            "...She turned the tuning-pegs and tested several strings;\n",
            "We could feel what she was feeling, even before she played:\n",
            "Each string a meditation, each note a deep thought,\n",
            "As if she were telling us the ache of her whole life.\n",
            "She knit her brows, flexed her fingers, then began her music,\n",
            "Little by little letting her heart share everything with ours.\n",
            "She brushed the strings, twisted them slow, swept them, plucked them --\n",
            "First the air of The Rainbow Skirt, then The Six Little Ones.\n",
            "The large strings hummed like rain,\n",
            "The small strings whispered like a secret,\n",
            "Hummed, whispered-and then were intermingled\n",
            "Like a pouring of large and small pearls into a plate of jade.\n",
            "We heard an oriole, liquid, hidden among flowers.\n",
            "We heard a brook bitterly sob along a bank of sand...\n",
            "By the checking of its cold touch, the very string seemed broken\n",
            "As though it could not pass; and the notes, dying away\n",
            "Into a depth of sorrow and concealment of lament,\n",
            "Told even more in silence than they had told in sound....\n",
            "A silver vase abruptly broke with a g\n",
            "\n",
            "[810 | 3502.69] loss=0.03 avg=0.27\n",
            "[820 | 3544.86] loss=0.02 avg=0.26\n",
            "[830 | 3587.10] loss=0.02 avg=0.26\n",
            "[840 | 3629.33] loss=0.03 avg=0.25\n",
            "[850 | 3671.54] loss=0.03 avg=0.25\n",
            "[860 | 3713.92] loss=0.03 avg=0.25\n",
            "[870 | 3756.36] loss=0.02 avg=0.24\n",
            "[880 | 3798.80] loss=0.02 avg=0.24\n",
            "[890 | 3841.18] loss=0.03 avg=0.23\n",
            "[900 | 3883.58] loss=0.03 avg=0.23\n",
            "[910 | 3925.99] loss=0.03 avg=0.23\n",
            "[920 | 3968.40] loss=0.02 avg=0.22\n",
            "[930 | 4010.75] loss=0.02 avg=0.22\n",
            "[940 | 4053.14] loss=0.03 avg=0.22\n",
            "[950 | 4095.58] loss=0.03 avg=0.22\n",
            "[960 | 4138.02] loss=0.03 avg=0.21\n",
            "[970 | 4180.48] loss=0.03 avg=0.21\n",
            "[980 | 4222.92] loss=0.03 avg=0.21\n",
            "[990 | 4265.36] loss=0.04 avg=0.20\n",
            "[1000 | 4307.76] loss=0.02 avg=0.20\n",
            "Saving checkpoint/run1/model-1000\n",
            "WARNING:tensorflow:From /tensorflow-1.15.2/python3.6/tensorflow_core/python/training/saver.py:963: remove_checkpoint (from tensorflow.python.training.checkpoint_management) is deprecated and will be removed in a future version.\n",
            "Instructions for updating:\n",
            "Use standard file APIs to delete files with this prefix.\n"
          ],
          "name": "stdout"
        }
      ]
    },
    {
      "cell_type": "markdown",
      "metadata": {
        "id": "IXSuTNERaw6K",
        "colab_type": "text"
      },
      "source": [
        "The checkpoint folder is copied as a `.rar` compressed file; you can download it and uncompress it locally."
      ]
    },
    {
      "cell_type": "code",
      "metadata": {
        "id": "VHdTL8NDbAh3",
        "colab_type": "code",
        "colab": {}
      },
      "source": [
        "gpt2.copy_checkpoint_to_gdrive(run_name='run1')"
      ],
      "execution_count": 0,
      "outputs": []
    },
    {
      "cell_type": "code",
      "metadata": {
        "id": "3CB00Q8nOUaO",
        "colab_type": "code",
        "outputId": "9e33982e-b970-4148-81d9-aeae4b2baf7e",
        "colab": {
          "base_uri": "https://localhost:8080/",
          "height": 122
        }
      },
      "source": [
        "from google.colab import drive\n",
        "drive.mount('/content/drive')"
      ],
      "execution_count": 0,
      "outputs": [
        {
          "output_type": "stream",
          "text": [
            "Go to this URL in a browser: https://accounts.google.com/o/oauth2/auth?client_id=947318989803-6bn6qk8qdgf4n4g3pfee6491hc0brc4i.apps.googleusercontent.com&redirect_uri=urn%3aietf%3awg%3aoauth%3a2.0%3aoob&response_type=code&scope=email%20https%3a%2f%2fwww.googleapis.com%2fauth%2fdocs.test%20https%3a%2f%2fwww.googleapis.com%2fauth%2fdrive%20https%3a%2f%2fwww.googleapis.com%2fauth%2fdrive.photos.readonly%20https%3a%2f%2fwww.googleapis.com%2fauth%2fpeopleapi.readonly\n",
            "\n",
            "Enter your authorization code:\n",
            "··········\n",
            "Mounted at /content/drive\n"
          ],
          "name": "stdout"
        }
      ]
    },
    {
      "cell_type": "code",
      "metadata": {
        "id": "DCcx5u7sbPTD",
        "colab_type": "code",
        "colab": {}
      },
      "source": [
        "gpt2.copy_checkpoint_from_gdrive(run_name='run1')"
      ],
      "execution_count": 0,
      "outputs": []
    },
    {
      "cell_type": "markdown",
      "metadata": {
        "id": "RTa6zf3e_9gV",
        "colab_type": "text"
      },
      "source": [
        "The next cell will allow you to load the retrained model checkpoint + metadata necessary to generate text.\n",
        "\n",
        "**IMPORTANT NOTE:** If you want to rerun this cell, **restart the VM first** (Runtime -> Restart Runtime). You will need to rerun imports but not recopy files."
      ]
    },
    {
      "cell_type": "code",
      "metadata": {
        "id": "-fxL77nvAMAX",
        "colab_type": "code",
        "outputId": "8a8795a4-f3c3-4c84-9290-c3f0ee99d4d1",
        "colab": {
          "base_uri": "https://localhost:8080/",
          "height": 51
        }
      },
      "source": [
        "sess = gpt2.start_tf_sess()\n",
        "gpt2.load_gpt2(sess, run_name='run1')"
      ],
      "execution_count": 0,
      "outputs": [
        {
          "output_type": "stream",
          "text": [
            "Loading checkpoint checkpoint/run1/model-1000\n",
            "INFO:tensorflow:Restoring parameters from checkpoint/run1/model-1000\n"
          ],
          "name": "stdout"
        }
      ]
    },
    {
      "cell_type": "markdown",
      "metadata": {
        "id": "ClJwpF_ACONp",
        "colab_type": "text"
      },
      "source": [
        "## Generate Text From The Trained Model\n",
        "\n",
        "After you've trained the model or loaded a retrained model from checkpoint, you can now generate text. `generate` generates a single text from the loaded model."
      ]
    },
    {
      "cell_type": "code",
      "metadata": {
        "id": "4RNY6RBI9LmL",
        "colab_type": "code",
        "outputId": "e160e804-bd2b-4ac1-ae43-6b378ef50fff",
        "colab": {
          "base_uri": "https://localhost:8080/",
          "height": 68
        }
      },
      "source": [
        "gpt2.generate(sess, run_name='run1', length=30)"
      ],
      "execution_count": 0,
      "outputs": [
        {
          "output_type": "stream",
          "text": [
            "With the autumn moon passing through our window,\n",
            "And the moon's glimmer on the silver screen greenens with the talk of the city,\n",
            "\n"
          ],
          "name": "stdout"
        }
      ]
    },
    {
      "cell_type": "markdown",
      "metadata": {
        "id": "oF4-PqF0Fl7R",
        "colab_type": "text"
      },
      "source": [
        "If you're creating an API based on your model and need to pass the generated text elsewhere, you can do `text = gpt2.generate(sess, return_as_list=True)[0]`\n",
        "\n",
        "You can also pass in a `prefix` to the generate function to force the text to start with a given character sequence and generate text from there (good if you add an indicator when the text starts).\n",
        "\n",
        "You can also generate multiple texts at a time by specifing `nsamples`. Unique to GPT-2, you can pass a `batch_size` to generate multiple samples in parallel, giving a massive speedup (in Colaboratory, set a maximum of 20 for `batch_size`).\n",
        "\n",
        "Other optional-but-helpful parameters for `gpt2.generate` and friends:\n",
        "\n",
        "*  **`length`**: Number of tokens to generate (default 1023, the maximum)\n",
        "* **`temperature`**: The higher the temperature, the crazier the text (default 0.7, recommended to keep between 0.7 and 1.0)\n",
        "* **`top_k`**: Limits the generated guesses to the top *k* guesses (default 0 which disables the behavior; if the generated output is super crazy, you may want to set `top_k=40`)\n",
        "* **`top_p`**: Nucleus sampling: limits the generated guesses to a cumulative probability. (gets good results on a dataset with `top_p=0.9`)\n",
        "* **`truncate`**: Truncates the input text until a given sequence, excluding that sequence (e.g. if `truncate='<|endoftext|>'`, the returned text will include everything before the first `<|endoftext|>`). It may be useful to combine this with a smaller `length` if the input texts are short.\n",
        "*  **`include_prefix`**: If using `truncate` and `include_prefix=False`, the specified `prefix` will not be included in the returned text."
      ]
    },
    {
      "cell_type": "code",
      "metadata": {
        "id": "8DKMc0fiej4N",
        "colab_type": "code",
        "outputId": "526dbd1b-f076-4f47-a42b-058ab4a35b9f",
        "colab": {
          "base_uri": "https://localhost:8080/",
          "height": 1000
        }
      },
      "source": [
        "gpt2.generate(sess,\n",
        "              length=250,\n",
        "              temperature=0.7,\n",
        "              prefix=\"LORD\",\n",
        "              nsamples=5,\n",
        "              batch_size=5\n",
        "              )"
      ],
      "execution_count": 0,
      "outputs": [
        {
          "output_type": "stream",
          "text": [
            "LORD WILLOUGHBY:\n",
            "That, by the way, Clarence and I have done good side by side;\n",
            "And yet side we, and he side we have done ill.\n",
            "\n",
            "KING RICHARD II:\n",
            "Why then 'tis done ill. O, how should I ease it?\n",
            "Side with him and my brother, my sovereign!\n",
            "Side wither away, and as night falls,\n",
            "Like to the farthest morning to my last,\n",
            "Side wither away, and as morning comes,\n",
            "Like to the furthest afternoon to my last!\n",
            "Side wither away, and as our fortunes turn,\n",
            "Like to the furthest afternoon to our last!\n",
            "\n",
            "QUEEN MARGARET:\n",
            "What is this? counsel? counsel!\n",
            "\n",
            "KING RICHARD II:\n",
            "My queen and my heir, for half a mile and a half\n",
            "She will glide this way, to be or no.\n",
            "\n",
            "QUEEN MARGARET:\n",
            "So stands the orchard here, for half a mile and a!\n",
            "\n",
            "KING RICHARD II:\n",
            "So stands the orchard here, to fence it, to!\n",
            "Fashion it in her, like the hedgehog's net\n",
            "====================\n",
            "LORD STANLEY:\n",
            "What if I told you, in the hope of succor,\n",
            "That I had lain a little while in your arms?\n",
            "\n",
            "DUKE OF YORK:\n",
            "No doubt, my lord.\n",
            "\n",
            "QUEEN ELIZABETH:\n",
            "'Tis a pity I should be coil'd to\n",
            "Be brief and unanswerable. Yet give me this.\n",
            "\n",
            "EXTON:\n",
            "'Tis a truth that vexes me deeply\n",
            "To try whether thou, Lord Hastings, art moved\n",
            "To enter publicly with gentle discourse\n",
            "And thanks from his acknowledged friends.\n",
            "\n",
            "HASTINGS:\n",
            "My gracious lord,\n",
            "Suppose me this: did I so love to see the Tower?\n",
            "\n",
            "KING RICHARD II:\n",
            "I did so; but the duelling Tower, moved\n",
            "By jealousies to oppress me,\n",
            "Wretches to usurp him held most dear,\n",
            "The truth is, I loved the Tower as I loved\n",
            "The princes that envied their prosperity.\n",
            "\n",
            "HASTINGS:\n",
            "I loved innocently,\n",
            "When my princes did usurp their gains; when\n",
            "When my grandsire and my liege, prince and prince,\n",
            "B\n",
            "====================\n",
            "LORD WILLOUGHBY:\n",
            "How long shall it take? only\n",
            "To behold your father's bending in the duke's.\n",
            "How long shall it be? do you understand me?\n",
            "\n",
            "ROMEO:\n",
            "Your grace, I understand you.\n",
            "\n",
            "ROMEO:\n",
            "It must be so; then I'll excuse myself.\n",
            "\n",
            "ROMEO:\n",
            "It shall be so.\n",
            "\n",
            "FRIAR LAURENCE:\n",
            "Your nose is pleasant on myself.\n",
            "\n",
            "ROMEO:\n",
            "No need.\n",
            "\n",
            "FRIAR LAURENCE:\n",
            "My heart is troubled by strange thoughts.\n",
            "\n",
            "ROMEO:\n",
            "No need.\n",
            "\n",
            "FRIAR LAURENCE:\n",
            "My heart is troubled by strange thoughts.\n",
            "\n",
            "ROMEO:\n",
            "Prithee, be quiet; thou need'st it.\n",
            "\n",
            "FRIAR LAURENCE:\n",
            "My mind is unsettled; no need.\n",
            "\n",
            "ROMEO:\n",
            "Prithee, be quiet; thou need'st it.\n",
            "\n",
            "FRIAR LAURENCE:\n",
            "My mind is unsettled; no need.\n",
            "\n",
            "ROMEO:\n",
            "Prithee, be quiet; thou need'st it.\n",
            "\n",
            "FRIAR LA\n",
            "====================\n",
            "LORD WILLOUGHBY:\n",
            "And, if the right Edward were slain,\n",
            "My father's blood should wash the world from me.\n",
            "\n",
            "QUEEN MARGARET:\n",
            "O, let him fly from me, that he may live!\n",
            "\n",
            "PRINCE EDWARD:\n",
            "Arise, one last, and let him be slain ere he return.\n",
            "\n",
            "QUEEN MARGARET:\n",
            "I thank God I am not young nor old to waste.\n",
            "I am young and wooer than this young wooer was.\n",
            "\n",
            "YORK:\n",
            "Younger than young, and wooer than a man is.\n",
            "\n",
            "QUEEN MARGARET:\n",
            "What, wilt thou not kill her?\n",
            "\n",
            "RYBHUS:\n",
            "If thou darest, thou hast to do good deeds,\n",
            "If thou darest, thou darest not kill her, thou darest.\n",
            "\n",
            "PRINCE EDWARD:\n",
            "Where dost thou go? command Warwick to take her?\n",
            "\n",
            "WARWICK:\n",
            "Where leadess Warwick be that Warwick is woo'd.\n",
            "\n",
            "YORK:\n",
            "Where leadess Warwick be woo'd that noble York is.\n",
            "\n",
            "PRINCE\n",
            "====================\n",
            "LORD WILLOUGHBY:\n",
            "Let him please to come and sup with him?\n",
            "\n",
            "WARWICK:\n",
            "I promised he should come and sup with him.\n",
            "\n",
            "YORK:\n",
            "'Twas a vow of charity to vex him,\n",
            "And then he should vex us to come and sup.\n",
            "\n",
            "WARWICK:\n",
            "'Twas but a vow to come and sup with him.\n",
            "\n",
            "YORK:\n",
            "'Twas but a vow to come and sup with him.\n",
            "\n",
            "WARWICK:\n",
            "Come hither, slave boy.\n",
            "Me I come, you wretched hag, you wretched thing.\n",
            "\n",
            "DORCAS:\n",
            "'Tis very well. Come, go with me.\n",
            "\n",
            "WARWICK:\n",
            "I will be his slave, and make his bondage known.\n",
            "\n",
            "EXTON:\n",
            "So, you have resisted his bondage, you have run your errand too far.\n",
            "\n",
            "WESTMORELAND:\n",
            "O, but O, the slave that was past the year\n",
            "Doth not my errand a better errand?\n",
            "\n",
            "EXTON:\n",
            "No, for so my wits charge me thus too late.\n",
            "\n",
            "WARWICK:\n",
            "But\n",
            "====================\n"
          ],
          "name": "stdout"
        }
      ]
    },
    {
      "cell_type": "markdown",
      "metadata": {
        "id": "zjjEN2Tafhl2",
        "colab_type": "text"
      },
      "source": [
        "For bulk generation, you can generate a large amount of text to a file and sort out the samples locally on your computer. The next cell will generate a generated text file with a unique timestamp.\n",
        "\n",
        "You can rerun the cells as many times as you want for even more generated texts!"
      ]
    },
    {
      "cell_type": "code",
      "metadata": {
        "id": "Fa6p6arifSL0",
        "colab_type": "code",
        "colab": {}
      },
      "source": [
        "gen_file = 'gpt2_gentext_{:%Y%m%d_%H%M%S}.txt'.format(datetime.utcnow())\n",
        "\n",
        "gpt2.generate_to_file(sess,\n",
        "                      destination_path=gen_file,\n",
        "                      length=500,\n",
        "                      temperature=0.7,\n",
        "                      nsamples=100,\n",
        "                      batch_size=20\n",
        "                      )"
      ],
      "execution_count": 0,
      "outputs": []
    },
    {
      "cell_type": "code",
      "metadata": {
        "id": "0-LRex8lfv1g",
        "colab_type": "code",
        "colab": {}
      },
      "source": [
        "# may have to run twice to get file to download\n",
        "files.download(gen_file)"
      ],
      "execution_count": 0,
      "outputs": []
    },
    {
      "cell_type": "markdown",
      "metadata": {
        "id": "QQAN3M6RT7Kj",
        "colab_type": "text"
      },
      "source": [
        "## Generate Text From The Pretrained Model\n",
        "\n",
        "If you want to generate text from the pretrained model, not a finetuned model, pass `model_name` to `gpt2.load_gpt2()` and `gpt2.generate()`.\n",
        "\n",
        "This is currently the only way to generate text from the 774M or 1558M models with this notebook."
      ]
    },
    {
      "cell_type": "code",
      "metadata": {
        "id": "hsUd_jHgUZnD",
        "colab_type": "code",
        "outputId": "4e0c8a3f-3527-41c4-e3fe-3357f3f8f6c2",
        "colab": {
          "base_uri": "https://localhost:8080/",
          "height": 158
        }
      },
      "source": [
        "model_name = \"774M\"\n",
        "\n",
        "gpt2.download_gpt2(model_name=model_name)"
      ],
      "execution_count": 0,
      "outputs": [
        {
          "output_type": "stream",
          "text": [
            "Fetching checkpoint: 1.05Mit [00:00, 354Mit/s]                                                      \n",
            "Fetching encoder.json: 1.05Mit [00:00, 131Mit/s]                                                    \n",
            "Fetching hparams.json: 1.05Mit [00:00, 279Mit/s]                                                    \n",
            "Fetching model.ckpt.data-00000-of-00001: 3.10Git [00:23, 131Mit/s]                                  \n",
            "Fetching model.ckpt.index: 1.05Mit [00:00, 380Mit/s]                                                \n",
            "Fetching model.ckpt.meta: 2.10Mit [00:00, 226Mit/s]                                                 \n",
            "Fetching vocab.bpe: 1.05Mit [00:00, 199Mit/s]                                                       \n"
          ],
          "name": "stderr"
        }
      ]
    },
    {
      "cell_type": "code",
      "metadata": {
        "id": "BAe4NpKNUj2C",
        "colab_type": "code",
        "outputId": "b09bfe1d-2ff8-4b8a-fffb-273d28d5d4ae",
        "colab": {
          "base_uri": "https://localhost:8080/",
          "height": 124
        }
      },
      "source": [
        "sess = gpt2.start_tf_sess()\n",
        "\n",
        "gpt2.load_gpt2(sess, model_name=model_name)"
      ],
      "execution_count": 0,
      "outputs": [
        {
          "output_type": "stream",
          "text": [
            "WARNING: Logging before flag parsing goes to stderr.\n",
            "W0828 18:37:58.571830 139905369159552 deprecation.py:323] From /usr/local/lib/python3.6/dist-packages/tensorflow/python/training/saver.py:1276: checkpoint_exists (from tensorflow.python.training.checkpoint_management) is deprecated and will be removed in a future version.\n",
            "Instructions for updating:\n",
            "Use standard file APIs to check for files with this prefix.\n"
          ],
          "name": "stderr"
        },
        {
          "output_type": "stream",
          "text": [
            "Loading pretrained model models/774M/model.ckpt\n"
          ],
          "name": "stdout"
        }
      ]
    },
    {
      "cell_type": "code",
      "metadata": {
        "id": "-xInIZKaU104",
        "colab_type": "code",
        "outputId": "56348e28-7d08-45e3-c859-f26c0efd066d",
        "colab": {
          "base_uri": "https://localhost:8080/",
          "height": 797
        }
      },
      "source": [
        "gpt2.generate(sess,\n",
        "              model_name=model_name,\n",
        "              prefix=\"The secret of life is\",\n",
        "              length=100,\n",
        "              temperature=0.7,\n",
        "              top_p=0.9,\n",
        "              nsamples=5,\n",
        "              batch_size=5\n",
        "              )"
      ],
      "execution_count": 0,
      "outputs": [
        {
          "output_type": "stream",
          "text": [
            "The secret of life is that it's really easy to make it complicated,\" said Bill Nye, the host of the popular science show \"Bill Nye the Science Guy.\" \"And this is one of the reasons why we all need to be smarter about science, because we can't keep up with the amazing things that are going on all the time.\"\n",
            "\n",
            "While Nye is correct that \"everything that's going on all the time\" is making the world a better place, he misses the point. This is not\n",
            "====================\n",
            "The secret of life is in the rhythm of the universe. It's not a mystery. It's not a mystery to me. It's the nature of the universe. It's the beauty of the universe. It's the way the universe works. It's the way the universe is. It's the way the universe is going to work. It's the way the universe is. It's the way the universe is. It's the way the universe is. It's the way the universe is. It's the way\n",
            "====================\n",
            "The secret of life is in the universe.\n",
            "\n",
            "\n",
            "-\n",
            "\n",
            "The Red Devil\n",
            "\n",
            "It's the end of the world as we know it, and the only thing that can save us is a band of super-powered individuals known as the Red Devil.\n",
            "\n",
            "\n",
            "The Red Devil is a group of super-powered individuals who are seeking the secret of life and the only way they know how to do it is by taking on the roles of a variety of different super-powered individuals, each of which has their own\n",
            "====================\n",
            "The secret of life is in the mixing of the elements, and it is the mixing of the elements that makes life possible.\"\n",
            "\n",
            "But in the world of food science, the idea of a \"complex\" or \"complexity\" is almost entirely imaginary.\n",
            "\n",
            "As a scientist, I'm fascinated by the question of how life first began.\n",
            "\n",
            "It's the question that drives my work and the work of the scientists who work on it.\n",
            "\n",
            "My current research is exploring how microbes work in the first moments\n",
            "====================\n",
            "The secret of life is the journey of life, the search for the truth.\n",
            "\n",
            "4.4.2. The last thing you know\n",
            "\n",
            "There is nothing more important than the last thing you know.\n",
            "\n",
            "4.4.3. The little things that make all the difference\n",
            "\n",
            "The little things that make all the difference.\n",
            "\n",
            "4.4.4. The truth is the best teacher\n",
            "\n",
            "The truth is the best teacher.\n",
            "\n",
            "4.4.5. The truth is what\n",
            "====================\n"
          ],
          "name": "stdout"
        }
      ]
    },
    {
      "cell_type": "markdown",
      "metadata": {
        "id": "ig-KVgkCDCKD",
        "colab_type": "text"
      },
      "source": [
        "# Etcetera\n",
        "\n",
        "If the notebook has errors (e.g. GPU Sync Fail), force-kill the Colaboratory virtual machine and restart it with the command below:"
      ]
    },
    {
      "cell_type": "code",
      "metadata": {
        "id": "rIHiVP53FnsX",
        "colab_type": "code",
        "colab": {}
      },
      "source": [
        "!kill -9 -1"
      ],
      "execution_count": 0,
      "outputs": []
    },
    {
      "cell_type": "markdown",
      "metadata": {
        "id": "wmTXWNUygS5E",
        "colab_type": "text"
      },
      "source": [
        "# LICENSE\n",
        "\n",
        "MIT License\n",
        "\n",
        "Copyright (c) 2019 Max Woolf\n",
        "\n",
        "Permission is hereby granted, free of charge, to any person obtaining a copy\n",
        "of this software and associated documentation files (the \"Software\"), to deal\n",
        "in the Software without restriction, including without limitation the rights\n",
        "to use, copy, modify, merge, publish, distribute, sublicense, and/or sell\n",
        "copies of the Software, and to permit persons to whom the Software is\n",
        "furnished to do so, subject to the following conditions:\n",
        "\n",
        "The above copyright notice and this permission notice shall be included in all\n",
        "copies or substantial portions of the Software.\n",
        "\n",
        "THE SOFTWARE IS PROVIDED \"AS IS\", WITHOUT WARRANTY OF ANY KIND, EXPRESS OR\n",
        "IMPLIED, INCLUDING BUT NOT LIMITED TO THE WARRANTIES OF MERCHANTABILITY,\n",
        "FITNESS FOR A PARTICULAR PURPOSE AND NONINFRINGEMENT. IN NO EVENT SHALL THE\n",
        "AUTHORS OR COPYRIGHT HOLDERS BE LIABLE FOR ANY CLAIM, DAMAGES OR OTHER\n",
        "LIABILITY, WHETHER IN AN ACTION OF CONTRACT, TORT OR OTHERWISE, ARISING FROM,\n",
        "OUT OF OR IN CONNECTION WITH THE SOFTWARE OR THE USE OR OTHER DEALINGS IN THE\n",
        "SOFTWARE."
      ]
    }
  ]
}